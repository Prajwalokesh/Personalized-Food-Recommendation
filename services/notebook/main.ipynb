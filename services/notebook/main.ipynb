{
  "cells": [
    {
      "cell_type": "code",
      "execution_count": 1,
      "id": "qEld_dlVhnes",
      "metadata": {
        "colab": {
          "base_uri": "https://localhost:8080/",
          "height": 107
        },
        "id": "qEld_dlVhnes",
        "outputId": "d501d056-9bd8-42df-dc50-dbcf74d1c4c6"
      },
      "outputs": [
        {
          "data": {
            "text/html": [
              "\n",
              "     <input type=\"file\" id=\"files-64beaad0-97ff-48a8-b5b3-383d70231a53\" name=\"files[]\" multiple disabled\n",
              "        style=\"border:none\" />\n",
              "     <output id=\"result-64beaad0-97ff-48a8-b5b3-383d70231a53\">\n",
              "      Upload widget is only available when the cell has been executed in the\n",
              "      current browser session. Please rerun this cell to enable.\n",
              "      </output>\n",
              "      <script>// Copyright 2017 Google LLC\n",
              "//\n",
              "// Licensed under the Apache License, Version 2.0 (the \"License\");\n",
              "// you may not use this file except in compliance with the License.\n",
              "// You may obtain a copy of the License at\n",
              "//\n",
              "//      http://www.apache.org/licenses/LICENSE-2.0\n",
              "//\n",
              "// Unless required by applicable law or agreed to in writing, software\n",
              "// distributed under the License is distributed on an \"AS IS\" BASIS,\n",
              "// WITHOUT WARRANTIES OR CONDITIONS OF ANY KIND, either express or implied.\n",
              "// See the License for the specific language governing permissions and\n",
              "// limitations under the License.\n",
              "\n",
              "/**\n",
              " * @fileoverview Helpers for google.colab Python module.\n",
              " */\n",
              "(function(scope) {\n",
              "function span(text, styleAttributes = {}) {\n",
              "  const element = document.createElement('span');\n",
              "  element.textContent = text;\n",
              "  for (const key of Object.keys(styleAttributes)) {\n",
              "    element.style[key] = styleAttributes[key];\n",
              "  }\n",
              "  return element;\n",
              "}\n",
              "\n",
              "// Max number of bytes which will be uploaded at a time.\n",
              "const MAX_PAYLOAD_SIZE = 100 * 1024;\n",
              "\n",
              "function _uploadFiles(inputId, outputId) {\n",
              "  const steps = uploadFilesStep(inputId, outputId);\n",
              "  const outputElement = document.getElementById(outputId);\n",
              "  // Cache steps on the outputElement to make it available for the next call\n",
              "  // to uploadFilesContinue from Python.\n",
              "  outputElement.steps = steps;\n",
              "\n",
              "  return _uploadFilesContinue(outputId);\n",
              "}\n",
              "\n",
              "// This is roughly an async generator (not supported in the browser yet),\n",
              "// where there are multiple asynchronous steps and the Python side is going\n",
              "// to poll for completion of each step.\n",
              "// This uses a Promise to block the python side on completion of each step,\n",
              "// then passes the result of the previous step as the input to the next step.\n",
              "function _uploadFilesContinue(outputId) {\n",
              "  const outputElement = document.getElementById(outputId);\n",
              "  const steps = outputElement.steps;\n",
              "\n",
              "  const next = steps.next(outputElement.lastPromiseValue);\n",
              "  return Promise.resolve(next.value.promise).then((value) => {\n",
              "    // Cache the last promise value to make it available to the next\n",
              "    // step of the generator.\n",
              "    outputElement.lastPromiseValue = value;\n",
              "    return next.value.response;\n",
              "  });\n",
              "}\n",
              "\n",
              "/**\n",
              " * Generator function which is called between each async step of the upload\n",
              " * process.\n",
              " * @param {string} inputId Element ID of the input file picker element.\n",
              " * @param {string} outputId Element ID of the output display.\n",
              " * @return {!Iterable<!Object>} Iterable of next steps.\n",
              " */\n",
              "function* uploadFilesStep(inputId, outputId) {\n",
              "  const inputElement = document.getElementById(inputId);\n",
              "  inputElement.disabled = false;\n",
              "\n",
              "  const outputElement = document.getElementById(outputId);\n",
              "  outputElement.innerHTML = '';\n",
              "\n",
              "  const pickedPromise = new Promise((resolve) => {\n",
              "    inputElement.addEventListener('change', (e) => {\n",
              "      resolve(e.target.files);\n",
              "    });\n",
              "  });\n",
              "\n",
              "  const cancel = document.createElement('button');\n",
              "  inputElement.parentElement.appendChild(cancel);\n",
              "  cancel.textContent = 'Cancel upload';\n",
              "  const cancelPromise = new Promise((resolve) => {\n",
              "    cancel.onclick = () => {\n",
              "      resolve(null);\n",
              "    };\n",
              "  });\n",
              "\n",
              "  // Wait for the user to pick the files.\n",
              "  const files = yield {\n",
              "    promise: Promise.race([pickedPromise, cancelPromise]),\n",
              "    response: {\n",
              "      action: 'starting',\n",
              "    }\n",
              "  };\n",
              "\n",
              "  cancel.remove();\n",
              "\n",
              "  // Disable the input element since further picks are not allowed.\n",
              "  inputElement.disabled = true;\n",
              "\n",
              "  if (!files) {\n",
              "    return {\n",
              "      response: {\n",
              "        action: 'complete',\n",
              "      }\n",
              "    };\n",
              "  }\n",
              "\n",
              "  for (const file of files) {\n",
              "    const li = document.createElement('li');\n",
              "    li.append(span(file.name, {fontWeight: 'bold'}));\n",
              "    li.append(span(\n",
              "        `(${file.type || 'n/a'}) - ${file.size} bytes, ` +\n",
              "        `last modified: ${\n",
              "            file.lastModifiedDate ? file.lastModifiedDate.toLocaleDateString() :\n",
              "                                    'n/a'} - `));\n",
              "    const percent = span('0% done');\n",
              "    li.appendChild(percent);\n",
              "\n",
              "    outputElement.appendChild(li);\n",
              "\n",
              "    const fileDataPromise = new Promise((resolve) => {\n",
              "      const reader = new FileReader();\n",
              "      reader.onload = (e) => {\n",
              "        resolve(e.target.result);\n",
              "      };\n",
              "      reader.readAsArrayBuffer(file);\n",
              "    });\n",
              "    // Wait for the data to be ready.\n",
              "    let fileData = yield {\n",
              "      promise: fileDataPromise,\n",
              "      response: {\n",
              "        action: 'continue',\n",
              "      }\n",
              "    };\n",
              "\n",
              "    // Use a chunked sending to avoid message size limits. See b/62115660.\n",
              "    let position = 0;\n",
              "    do {\n",
              "      const length = Math.min(fileData.byteLength - position, MAX_PAYLOAD_SIZE);\n",
              "      const chunk = new Uint8Array(fileData, position, length);\n",
              "      position += length;\n",
              "\n",
              "      const base64 = btoa(String.fromCharCode.apply(null, chunk));\n",
              "      yield {\n",
              "        response: {\n",
              "          action: 'append',\n",
              "          file: file.name,\n",
              "          data: base64,\n",
              "        },\n",
              "      };\n",
              "\n",
              "      let percentDone = fileData.byteLength === 0 ?\n",
              "          100 :\n",
              "          Math.round((position / fileData.byteLength) * 100);\n",
              "      percent.textContent = `${percentDone}% done`;\n",
              "\n",
              "    } while (position < fileData.byteLength);\n",
              "  }\n",
              "\n",
              "  // All done.\n",
              "  yield {\n",
              "    response: {\n",
              "      action: 'complete',\n",
              "    }\n",
              "  };\n",
              "}\n",
              "\n",
              "scope.google = scope.google || {};\n",
              "scope.google.colab = scope.google.colab || {};\n",
              "scope.google.colab._files = {\n",
              "  _uploadFiles,\n",
              "  _uploadFilesContinue,\n",
              "};\n",
              "})(self);\n",
              "</script> "
            ],
            "text/plain": [
              "<IPython.core.display.HTML object>"
            ]
          },
          "metadata": {},
          "output_type": "display_data"
        },
        {
          "name": "stdout",
          "output_type": "stream",
          "text": [
            "Saving kaggle.json to kaggle.json\n"
          ]
        },
        {
          "data": {
            "text/plain": [
              "{'kaggle.json': b'{\"username\":\"whitewolf18\",\"key\":\"5791652d7a3c416e1d99a4ebba0fe6f4\"}'}"
            ]
          },
          "execution_count": 1,
          "metadata": {},
          "output_type": "execute_result"
        }
      ],
      "source": [
        "#run only for the collab not in local\n",
        "from google.colab import files\n",
        "files.upload()  # Upload your kaggle.json here\n"
      ]
    },
    {
      "cell_type": "code",
      "execution_count": 2,
      "id": "wBpfHkzbiM42",
      "metadata": {
        "id": "wBpfHkzbiM42"
      },
      "outputs": [],
      "source": [
        "#run only for the collab not in local\n",
        "import os\n",
        "import zipfile\n",
        "\n",
        "os.makedirs('/root/.kaggle', exist_ok=True)\n",
        "\n",
        "!mv kaggle.json /root/.kaggle/kaggle.json\n",
        "!chmod 600 /root/.kaggle/kaggle.json\n"
      ]
    },
    {
      "cell_type": "code",
      "execution_count": 3,
      "id": "9135e532",
      "metadata": {
        "colab": {
          "base_uri": "https://localhost:8080/"
        },
        "id": "9135e532",
        "outputId": "83c0fe30-0317-4f30-995e-9a84b66122f7"
      },
      "outputs": [
        {
          "name": "stdout",
          "output_type": "stream",
          "text": [
            "Dataset URL: https://www.kaggle.com/datasets/iamsouravbanerjee/indian-food-images-dataset\n",
            "License(s): other\n",
            "Downloading indian-food-images-dataset.zip to /content\n",
            " 99% 351M/355M [00:00<00:00, 1.22GB/s]\n",
            "100% 355M/355M [00:00<00:00, 1.22GB/s]\n"
          ]
        }
      ],
      "source": [
        "!kaggle datasets download iamsouravbanerjee/indian-food-images-dataset --unzip"
      ]
    },
    {
      "cell_type": "code",
      "execution_count": 1,
      "id": "wPMvdIH2iZ_r",
      "metadata": {
        "colab": {
          "base_uri": "https://localhost:8080/",
          "height": 384
        },
        "id": "wPMvdIH2iZ_r",
        "outputId": "740e27a6-b95f-438a-8db5-3b99c3d1c3b1"
      },
      "outputs": [],
      "source": [
        "from tensorflow.keras.applications import EfficientNetB3\n",
        "from tensorflow.keras.applications.efficientnet import preprocess_input\n",
        "import numpy as np\n",
        "from tensorflow.keras.preprocessing import image\n",
        "import matplotlib.pyplot as plt\n",
        "import os\n",
        "from tensorflow.keras.layers import Dense, GlobalAveragePooling2D, Dropout\n",
        "from tensorflow.keras.models import Model\n",
        "from tensorflow.keras.utils import to_categorical\n",
        "from sklearn.preprocessing import LabelEncoder"
      ]
    },
    {
      "cell_type": "code",
      "execution_count": null,
      "id": "c0a92f77",
      "metadata": {
        "id": "c0a92f77"
      },
      "outputs": [],
      "source": [
        "os.remove(\"List of Indian Foods.txt\")"
      ]
    },
    {
      "cell_type": "code",
      "execution_count": null,
      "id": "cac74b31",
      "metadata": {
        "id": "cac74b31"
      },
      "outputs": [],
      "source": [
        "os.rename(\"Indian Food Images\", \"dataset\")"
      ]
    },
    {
      "cell_type": "code",
      "execution_count": null,
      "id": "0d016c09",
      "metadata": {
        "id": "0d016c09"
      },
      "outputs": [],
      "source": [
        "DATA_DIR = \"dataset/Indian Food Images\""
      ]
    },
    {
      "cell_type": "code",
      "execution_count": null,
      "id": "88e9e7e2",
      "metadata": {
        "id": "88e9e7e2"
      },
      "outputs": [],
      "source": [
        "food_list = os.listdir(DATA_DIR)"
      ]
    },
    {
      "cell_type": "code",
      "execution_count": null,
      "id": "ab84b0c8",
      "metadata": {
        "collapsed": true,
        "id": "ab84b0c8"
      },
      "outputs": [],
      "source": [
        "food_list"
      ]
    },
    {
      "cell_type": "code",
      "execution_count": null,
      "id": "28cb1577",
      "metadata": {
        "id": "28cb1577"
      },
      "outputs": [],
      "source": [
        "len(food_list)"
      ]
    },
    {
      "cell_type": "code",
      "execution_count": null,
      "id": "fbc759c2",
      "metadata": {
        "id": "fbc759c2"
      },
      "outputs": [],
      "source": [
        "def load_and_preprocess_image(img_path):\n",
        "    img = image.load_img(img_path, target_size=(300, 300))\n",
        "    img_array = image.img_to_array(img)\n",
        "    img_array = np.expand_dims(img_array, axis=0)\n",
        "    img_array = preprocess_input(img_array)\n",
        "    return img_array"
      ]
    },
    {
      "cell_type": "code",
      "execution_count": null,
      "id": "81ff14eb",
      "metadata": {
        "id": "81ff14eb"
      },
      "outputs": [],
      "source": [
        "def create_file_list():\n",
        "    \"\"\"Create a list of (file_path, label) tuples instead of loading all images\"\"\"\n",
        "    file_list = []\n",
        "    for food in food_list:\n",
        "        food_dir = os.path.join(DATA_DIR, food)\n",
        "        if os.path.isdir(food_dir):\n",
        "            for img_file in os.listdir(food_dir):\n",
        "                img_path = os.path.join(food_dir, img_file)\n",
        "                if img_file.lower().endswith(('.png', '.jpg', '.jpeg')):\n",
        "                    file_list.append((img_path, food))\n",
        "    return file_list"
      ]
    },
    {
      "cell_type": "code",
      "execution_count": null,
      "id": "b4afba28",
      "metadata": {
        "id": "b4afba28"
      },
      "outputs": [],
      "source": [
        "file_list = create_file_list()\n",
        "print(f\"Total files found: {len(file_list)}\")"
      ]
    },
    {
      "cell_type": "code",
      "execution_count": null,
      "id": "dbfbaaa4",
      "metadata": {
        "id": "dbfbaaa4"
      },
      "outputs": [],
      "source": [
        "def get_train_test_split(file_list, test_size=0.2):\n",
        "    \"\"\"Split file paths into train and test sets\"\"\"\n",
        "    np.random.shuffle(file_list)\n",
        "    split_index = int(len(file_list) * (1 - test_size))\n",
        "    train_files = file_list[:split_index]\n",
        "    test_files = file_list[split_index:]\n",
        "    return train_files, test_files"
      ]
    },
    {
      "cell_type": "code",
      "execution_count": null,
      "id": "0f9efb0f",
      "metadata": {
        "id": "0f9efb0f"
      },
      "outputs": [],
      "source": [
        "train_files, test_files = get_train_test_split(file_list)\n",
        "print(f\"Training files: {len(train_files)}\")\n",
        "print(f\"Test files: {len(test_files)}\")"
      ]
    },
    {
      "cell_type": "code",
      "execution_count": null,
      "id": "c94b5316",
      "metadata": {},
      "outputs": [],
      "source": [
        "import tensorflow as tf\n",
        "from tensorflow.keras.utils import Sequence, to_categorical\n",
        "import numpy as np\n",
        "\n",
        "class ImageDataGenerator(Sequence):\n",
        "    def __init__(self, file_list, label_encoder, num_classes, batch_size=32, shuffle=True):\n",
        "        self.file_list = file_list\n",
        "        self.label_encoder = label_encoder\n",
        "        self.num_classes = num_classes\n",
        "        self.batch_size = batch_size\n",
        "        self.shuffle = shuffle\n",
        "        self.indexes = np.arange(len(self.file_list))\n",
        "        if self.shuffle:\n",
        "            np.random.shuffle(self.indexes)\n",
        "    \n",
        "    def __len__(self):\n",
        "        return int(np.ceil(len(self.file_list) / self.batch_size))\n",
        "    \n",
        "    def __getitem__(self, index):\n",
        "        # Get batch indexes\n",
        "        start_idx = index * self.batch_size\n",
        "        end_idx = min((index + 1) * self.batch_size, len(self.file_list))\n",
        "        batch_indexes = self.indexes[start_idx:end_idx]\n",
        "        \n",
        "        # Generate batch data\n",
        "        batch_x = []\n",
        "        batch_y = []\n",
        "        \n",
        "        for idx in batch_indexes:\n",
        "            img_path, label = self.file_list[idx]\n",
        "            try:\n",
        "                img_array = load_and_preprocess_image(img_path)\n",
        "                batch_x.append(img_array[0])  # Remove the extra dimension\n",
        "                batch_y.append(label)\n",
        "            except Exception as e:\n",
        "                print(f\"Error loading image {img_path}: {e}\")\n",
        "                continue\n",
        "        \n",
        "        if len(batch_x) == 0:\n",
        "            # Return empty batch if no images could be loaded\n",
        "            return np.array([]), np.array([])\n",
        "        \n",
        "        # Encode labels and convert to one-hot\n",
        "        batch_y_encoded = self.label_encoder.transform(batch_y)\n",
        "        batch_y_one_hot = to_categorical(batch_y_encoded, num_classes=self.num_classes)\n",
        "        \n",
        "        return np.array(batch_x), batch_y_one_hot\n",
        "    \n",
        "    def on_epoch_end(self):\n",
        "        if self.shuffle:\n",
        "            np.random.shuffle(self.indexes)"
      ]
    },
    {
      "cell_type": "code",
      "execution_count": null,
      "id": "46b03175",
      "metadata": {
        "id": "46b03175"
      },
      "outputs": [],
      "source": [
        "# Create data generators for training and testing\n",
        "batch_size = 16  # Reduced batch size for better memory management\n",
        "\n",
        "# We need to create label encoder first, so let's do it here\n",
        "all_labels = [label for _, label in file_list]\n",
        "unique_labels = list(set(all_labels))\n",
        "label_encoder = LabelEncoder()\n",
        "label_encoder.fit(unique_labels)\n",
        "num_classes = len(unique_labels)\n",
        "\n",
        "train_generator = ImageDataGenerator(train_files, label_encoder, num_classes, batch_size=batch_size, shuffle=True)\n",
        "test_generator = ImageDataGenerator(test_files, label_encoder, num_classes, batch_size=batch_size, shuffle=False)\n",
        "\n",
        "print(f\"Training batches: {len(train_generator)}\")\n",
        "print(f\"Test batches: {len(test_generator)}\")\n",
        "print(f\"Batch size: {batch_size}\")\n",
        "print(f\"Number of classes: {num_classes}\")\n"
      ]
    },
    {
      "cell_type": "code",
      "execution_count": null,
      "id": "6bafa883",
      "metadata": {
        "id": "6bafa883"
      },
      "outputs": [],
      "source": [
        "# Test the generator by loading one batch\n",
        "sample_batch_x, sample_batch_y = train_generator[0]\n",
        "print(f\"Sample batch shape: {sample_batch_x.shape}\")\n",
        "print(f\"Sample labels: {sample_batch_y[:5]}\")  # Show first 5 labels"
      ]
    },
    {
      "cell_type": "code",
      "execution_count": null,
      "id": "nmE2_tGMjCfg",
      "metadata": {
        "id": "nmE2_tGMjCfg"
      },
      "outputs": [],
      "source": [
        "# Check generator information\n",
        "print(f\"Total training files: {len(train_files)}\")\n",
        "print(f\"Total test files: {len(test_files)}\")\n",
        "print(f\"Training batches per epoch: {len(train_generator)}\")\n",
        "print(f\"Test batches: {len(test_generator)}\")\n",
        "\n",
        "# Test loading one batch to verify everything works\n",
        "sample_x, sample_y = train_generator[0]\n",
        "print(f\"Sample batch X shape: {sample_x.shape}\")\n",
        "print(f\"Sample batch Y shape: {sample_y.shape}\")"
      ]
    },
    {
      "cell_type": "code",
      "execution_count": null,
      "id": "YUO0PdEzjVHh",
      "metadata": {
        "id": "YUO0PdEzjVHh"
      },
      "outputs": [],
      "source": [
        "base_model = EfficientNetB3(weights='imagenet', include_top=False, input_shape=(300, 300, 3))\n",
        "base_model.trainable = False\n",
        "\n",
        "x = base_model.output\n",
        "x = GlobalAveragePooling2D()(x)\n",
        "x = Dropout(0.2)(x)\n",
        "predictions = Dense(num_classes, activation='softmax')(x)  # Use dynamic num_classes\n",
        "\n",
        "model = Model(inputs=base_model.input, outputs=predictions)\n",
        "\n",
        "print(f\"Model created with {num_classes} output classes\")"
      ]
    },
    {
      "cell_type": "code",
      "execution_count": null,
      "id": "upE9q8xUjwm9",
      "metadata": {
        "collapsed": true,
        "id": "upE9q8xUjwm9"
      },
      "outputs": [],
      "source": [
        "model.summary()"
      ]
    },
    {
      "cell_type": "code",
      "execution_count": null,
      "id": "9711acaf",
      "metadata": {
        "id": "9711acaf"
      },
      "outputs": [],
      "source": [
        "model.compile(optimizer='adam', loss='categorical_crossentropy', metrics=['accuracy'])"
      ]
    },
    {
      "cell_type": "code",
      "execution_count": null,
      "id": "ed163f04",
      "metadata": {
        "id": "ed163f04"
      },
      "outputs": [],
      "source": [
        "# Train the model using the generator for memory-efficient batch processing\n",
        "history = model.fit(\n",
        "    train_generator,\n",
        "    epochs=10,\n",
        "    validation_data=test_generator,\n",
        "    verbose=1\n",
        ")\n",
        "\n",
        "print(\"Training completed successfully!\")"
      ]
    },
    {
      "cell_type": "code",
      "execution_count": null,
      "id": "bae299e7",
      "metadata": {},
      "outputs": [],
      "source": [
        "# Plot training history\n",
        "plt.figure(figsize=(12, 4))\n",
        "\n",
        "plt.subplot(1, 2, 1)\n",
        "plt.plot(history.history['loss'], label='Training Loss')\n",
        "plt.plot(history.history['val_loss'], label='Validation Loss')\n",
        "plt.title('Model Loss')\n",
        "plt.xlabel('Epoch')\n",
        "plt.ylabel('Loss')\n",
        "plt.legend()\n",
        "\n",
        "plt.subplot(1, 2, 2)\n",
        "plt.plot(history.history['accuracy'], label='Training Accuracy')\n",
        "plt.plot(history.history['val_accuracy'], label='Validation Accuracy')\n",
        "plt.title('Model Accuracy')\n",
        "plt.xlabel('Epoch')\n",
        "plt.ylabel('Accuracy')\n",
        "plt.legend()\n",
        "\n",
        "plt.tight_layout()\n",
        "plt.show()\n",
        "\n",
        "# Show memory usage benefits\n",
        "import psutil\n",
        "import os\n",
        "process = psutil.Process(os.getpid())\n",
        "memory_usage = process.memory_info().rss / 1024 / 1024  # Convert to MB\n",
        "print(f\"Current memory usage: {memory_usage:.2f} MB\")\n",
        "print(\"Batch processing allows for training on large datasets without loading all images into memory at once!\")"
      ]
    },
    {
      "cell_type": "code",
      "execution_count": null,
      "id": "2cd09304",
      "metadata": {},
      "outputs": [],
      "source": [
        "# Evaluate the model on test data using batch processing\n",
        "test_loss, test_accuracy = model.evaluate(test_generator, verbose=1)\n",
        "print(f\"Test Loss: {test_loss:.4f}\")\n",
        "print(f\"Test Accuracy: {test_accuracy:.4f}\")\n",
        "\n",
        "# Example of making predictions on a single batch\n",
        "sample_batch_x, sample_batch_y = test_generator[0]\n",
        "predictions = model.predict(sample_batch_x)\n",
        "\n",
        "# Show predictions for first few samples\n",
        "for i in range(min(3, len(predictions))):\n",
        "    predicted_class_idx = np.argmax(predictions[i])\n",
        "    true_class_idx = np.argmax(sample_batch_y[i])\n",
        "    \n",
        "    predicted_class = label_encoder.inverse_transform([predicted_class_idx])[0]\n",
        "    true_class = label_encoder.inverse_transform([true_class_idx])[0]\n",
        "    \n",
        "    confidence = predictions[i][predicted_class_idx] * 100\n",
        "    \n",
        "    print(f\"Sample {i+1}:\")\n",
        "    print(f\"  Predicted: {predicted_class} (Confidence: {confidence:.2f}%)\")\n",
        "    print(f\"  True: {true_class}\")\n",
        "    print(f\"  Correct: {'✓' if predicted_class == true_class else '✗'}\")\n",
        "    print()"
      ]
    }
  ],
  "metadata": {
    "accelerator": "TPU",
    "colab": {
      "gpuType": "V28",
      "provenance": []
    },
    "kernelspec": {
      "display_name": "Python 3",
      "name": "python3"
    },
    "language_info": {
      "codemirror_mode": {
        "name": "ipython",
        "version": 3
      },
      "file_extension": ".py",
      "mimetype": "text/x-python",
      "name": "python",
      "nbconvert_exporter": "python",
      "pygments_lexer": "ipython3",
      "version": "3.11.0"
    }
  },
  "nbformat": 4,
  "nbformat_minor": 5
}
